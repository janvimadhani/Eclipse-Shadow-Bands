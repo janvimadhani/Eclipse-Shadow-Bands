{
 "cells": [
  {
   "cell_type": "code",
   "execution_count": 1,
   "metadata": {},
   "outputs": [
    {
     "name": "stdout",
     "output_type": "stream",
     "text": [
      "Populating the interactive namespace from numpy and matplotlib\n"
     ]
    }
   ],
   "source": [
    "%pylab inline"
   ]
  },
  {
   "cell_type": "code",
   "execution_count": 16,
   "metadata": {},
   "outputs": [],
   "source": [
    "def calc_errors(input_file):\n",
    "    data = np.genfromtxt(input_file, autostrip = True)\n",
    "    x,y = data[:,0],data[:,1]\n",
    "    avg_y = np.mean(y)\n",
    "    new_table = np.zeros((len(x),3))\n",
    "    for i in range(len(x)):\n",
    "        new_table[i,0]=x[i]\n",
    "        new_table[i,1]=y[i]\n",
    "        new_table[i,2]=y[i]-avg_y\n",
    "    return new_table"
   ]
  },
  {
   "cell_type": "code",
   "execution_count": 17,
   "metadata": {},
   "outputs": [
    {
     "name": "stdout",
     "output_type": "stream",
     "text": [
      "[[  5.11000160e+03   3.48781000e-01]\n",
      " [  5.11000326e+03   3.48744000e-01]\n",
      " [  5.11000495e+03   3.48744000e-01]\n",
      " ..., \n",
      " [  5.17999546e+03  -1.89600000e-03]\n",
      " [  5.17999712e+03  -1.86300000e-03]\n",
      " [  5.17999878e+03  -1.89600000e-03]]\n"
     ]
    }
   ],
   "source": [
    "data1 = np.genfromtxt(\"LS1CH1_5110.0-5180.0sec.txt\", autostrip = True)\n",
    "print(data1)"
   ]
  },
  {
   "cell_type": "code",
   "execution_count": 19,
   "metadata": {},
   "outputs": [],
   "source": [
    "np.savetxt(\"LS1CH1_5110.0-5180.0sec_err.txt\",calc_errors(\"LS1CH1_5110.0-5180.0sec.txt\"))"
   ]
  },
  {
   "cell_type": "code",
   "execution_count": null,
   "metadata": {},
   "outputs": [],
   "source": []
  }
 ],
 "metadata": {
  "kernelspec": {
   "display_name": "Python 3",
   "language": "python",
   "name": "python3"
  },
  "language_info": {
   "codemirror_mode": {
    "name": "ipython",
    "version": 3
   },
   "file_extension": ".py",
   "mimetype": "text/x-python",
   "name": "python",
   "nbconvert_exporter": "python",
   "pygments_lexer": "ipython3",
   "version": "3.6.1"
  }
 },
 "nbformat": 4,
 "nbformat_minor": 2
}
